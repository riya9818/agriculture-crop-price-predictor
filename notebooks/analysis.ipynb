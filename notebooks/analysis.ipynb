{
 "cells": [
  {
   "cell_type": "markdown",
   "id": "a8d60947",
   "metadata": {},
   "source": [
    "LOad and Inspect Dataset\n"
   ]
  },
  {
   "cell_type": "code",
   "execution_count": 1,
   "id": "329966d6",
   "metadata": {},
   "outputs": [
    {
     "data": {
      "text/html": [
       "<div>\n",
       "<style scoped>\n",
       "    .dataframe tbody tr th:only-of-type {\n",
       "        vertical-align: middle;\n",
       "    }\n",
       "\n",
       "    .dataframe tbody tr th {\n",
       "        vertical-align: top;\n",
       "    }\n",
       "\n",
       "    .dataframe thead th {\n",
       "        text-align: right;\n",
       "    }\n",
       "</style>\n",
       "<table border=\"1\" class=\"dataframe\">\n",
       "  <thead>\n",
       "    <tr style=\"text-align: right;\">\n",
       "      <th></th>\n",
       "      <th>Iso3</th>\n",
       "      <th>StartDate</th>\n",
       "      <th>EndDate</th>\n",
       "      <th>Area Code</th>\n",
       "      <th>Area Code (M49)</th>\n",
       "      <th>Area</th>\n",
       "      <th>Item Code</th>\n",
       "      <th>Item Code (CPC)</th>\n",
       "      <th>Item</th>\n",
       "      <th>Element Code</th>\n",
       "      <th>Element</th>\n",
       "      <th>Year Code</th>\n",
       "      <th>Year</th>\n",
       "      <th>Months Code</th>\n",
       "      <th>Months</th>\n",
       "      <th>Unit</th>\n",
       "      <th>Value</th>\n",
       "      <th>Flag</th>\n",
       "    </tr>\n",
       "  </thead>\n",
       "  <tbody>\n",
       "    <tr>\n",
       "      <th>0</th>\n",
       "      <td>#country+code</td>\n",
       "      <td>#date+start</td>\n",
       "      <td>#date+end</td>\n",
       "      <td>NaN</td>\n",
       "      <td>NaN</td>\n",
       "      <td>#country+name</td>\n",
       "      <td>#indicator+code</td>\n",
       "      <td>NaN</td>\n",
       "      <td>#indicator+name</td>\n",
       "      <td>NaN</td>\n",
       "      <td>NaN</td>\n",
       "      <td>NaN</td>\n",
       "      <td>#date+year</td>\n",
       "      <td>NaN</td>\n",
       "      <td>NaN</td>\n",
       "      <td>#indicator+type</td>\n",
       "      <td>#indicator+value+num</td>\n",
       "      <td>NaN</td>\n",
       "    </tr>\n",
       "    <tr>\n",
       "      <th>1</th>\n",
       "      <td>NPL</td>\n",
       "      <td>1991-01-01</td>\n",
       "      <td>1991-12-31</td>\n",
       "      <td>149.0</td>\n",
       "      <td>'524</td>\n",
       "      <td>Nepal</td>\n",
       "      <td>221</td>\n",
       "      <td>'01371</td>\n",
       "      <td>Almonds, in shell</td>\n",
       "      <td>5530.0</td>\n",
       "      <td>Producer Price (LCU/tonne)</td>\n",
       "      <td>1991.0</td>\n",
       "      <td>1991</td>\n",
       "      <td>7021.0</td>\n",
       "      <td>Annual value</td>\n",
       "      <td>LCU</td>\n",
       "      <td>80291.600000</td>\n",
       "      <td>I</td>\n",
       "    </tr>\n",
       "    <tr>\n",
       "      <th>2</th>\n",
       "      <td>NPL</td>\n",
       "      <td>1992-01-01</td>\n",
       "      <td>1992-12-31</td>\n",
       "      <td>149.0</td>\n",
       "      <td>'524</td>\n",
       "      <td>Nepal</td>\n",
       "      <td>221</td>\n",
       "      <td>'01371</td>\n",
       "      <td>Almonds, in shell</td>\n",
       "      <td>5530.0</td>\n",
       "      <td>Producer Price (LCU/tonne)</td>\n",
       "      <td>1992.0</td>\n",
       "      <td>1992</td>\n",
       "      <td>7021.0</td>\n",
       "      <td>Annual value</td>\n",
       "      <td>LCU</td>\n",
       "      <td>67149.300000</td>\n",
       "      <td>I</td>\n",
       "    </tr>\n",
       "    <tr>\n",
       "      <th>3</th>\n",
       "      <td>NPL</td>\n",
       "      <td>1993-01-01</td>\n",
       "      <td>1993-12-31</td>\n",
       "      <td>149.0</td>\n",
       "      <td>'524</td>\n",
       "      <td>Nepal</td>\n",
       "      <td>221</td>\n",
       "      <td>'01371</td>\n",
       "      <td>Almonds, in shell</td>\n",
       "      <td>5530.0</td>\n",
       "      <td>Producer Price (LCU/tonne)</td>\n",
       "      <td>1993.0</td>\n",
       "      <td>1993</td>\n",
       "      <td>7021.0</td>\n",
       "      <td>Annual value</td>\n",
       "      <td>LCU</td>\n",
       "      <td>67990.600000</td>\n",
       "      <td>I</td>\n",
       "    </tr>\n",
       "    <tr>\n",
       "      <th>4</th>\n",
       "      <td>NPL</td>\n",
       "      <td>1994-01-01</td>\n",
       "      <td>1994-12-31</td>\n",
       "      <td>149.0</td>\n",
       "      <td>'524</td>\n",
       "      <td>Nepal</td>\n",
       "      <td>221</td>\n",
       "      <td>'01371</td>\n",
       "      <td>Almonds, in shell</td>\n",
       "      <td>5530.0</td>\n",
       "      <td>Producer Price (LCU/tonne)</td>\n",
       "      <td>1994.0</td>\n",
       "      <td>1994</td>\n",
       "      <td>7021.0</td>\n",
       "      <td>Annual value</td>\n",
       "      <td>LCU</td>\n",
       "      <td>71168.600000</td>\n",
       "      <td>I</td>\n",
       "    </tr>\n",
       "  </tbody>\n",
       "</table>\n",
       "</div>"
      ],
      "text/plain": [
       "            Iso3    StartDate     EndDate  Area Code Area Code (M49)  \\\n",
       "0  #country+code  #date+start   #date+end        NaN             NaN   \n",
       "1            NPL   1991-01-01  1991-12-31      149.0            '524   \n",
       "2            NPL   1992-01-01  1992-12-31      149.0            '524   \n",
       "3            NPL   1993-01-01  1993-12-31      149.0            '524   \n",
       "4            NPL   1994-01-01  1994-12-31      149.0            '524   \n",
       "\n",
       "            Area        Item Code Item Code (CPC)               Item  \\\n",
       "0  #country+name  #indicator+code             NaN    #indicator+name   \n",
       "1          Nepal              221          '01371  Almonds, in shell   \n",
       "2          Nepal              221          '01371  Almonds, in shell   \n",
       "3          Nepal              221          '01371  Almonds, in shell   \n",
       "4          Nepal              221          '01371  Almonds, in shell   \n",
       "\n",
       "   Element Code                     Element  Year Code        Year  \\\n",
       "0           NaN                         NaN        NaN  #date+year   \n",
       "1        5530.0  Producer Price (LCU/tonne)     1991.0        1991   \n",
       "2        5530.0  Producer Price (LCU/tonne)     1992.0        1992   \n",
       "3        5530.0  Producer Price (LCU/tonne)     1993.0        1993   \n",
       "4        5530.0  Producer Price (LCU/tonne)     1994.0        1994   \n",
       "\n",
       "   Months Code        Months             Unit                 Value Flag  \n",
       "0          NaN           NaN  #indicator+type  #indicator+value+num  NaN  \n",
       "1       7021.0  Annual value              LCU          80291.600000    I  \n",
       "2       7021.0  Annual value              LCU          67149.300000    I  \n",
       "3       7021.0  Annual value              LCU          67990.600000    I  \n",
       "4       7021.0  Annual value              LCU          71168.600000    I  "
      ]
     },
     "execution_count": 1,
     "metadata": {},
     "output_type": "execute_result"
    }
   ],
   "source": [
    "import pandas as pd\n",
    "\n",
    "# Load dataset\n",
    "df = pd.read_csv('../data/producer-prices_npl.csv')\n",
    "\n",
    "df.head()"
   ]
  },
  {
   "cell_type": "markdown",
   "id": "ad965497",
   "metadata": {},
   "source": []
  },
  {
   "cell_type": "code",
   "execution_count": 2,
   "id": "4bb06976",
   "metadata": {},
   "outputs": [
    {
     "name": "stdout",
     "output_type": "stream",
     "text": [
      "<class 'pandas.core.frame.DataFrame'>\n",
      "RangeIndex: 9421 entries, 0 to 9420\n",
      "Data columns (total 18 columns):\n",
      " #   Column           Non-Null Count  Dtype  \n",
      "---  ------           --------------  -----  \n",
      " 0   Iso3             9421 non-null   object \n",
      " 1   StartDate        9421 non-null   object \n",
      " 2   EndDate          9421 non-null   object \n",
      " 3   Area Code        9420 non-null   float64\n",
      " 4   Area Code (M49)  9420 non-null   object \n",
      " 5   Area             9421 non-null   object \n",
      " 6   Item Code        9421 non-null   object \n",
      " 7   Item Code (CPC)  9420 non-null   object \n",
      " 8   Item             9421 non-null   object \n",
      " 9   Element Code     9420 non-null   float64\n",
      " 10  Element          9420 non-null   object \n",
      " 11  Year Code        9420 non-null   float64\n",
      " 12  Year             9421 non-null   object \n",
      " 13  Months Code      9420 non-null   float64\n",
      " 14  Months           9420 non-null   object \n",
      " 15  Unit             6347 non-null   object \n",
      " 16  Value            9421 non-null   object \n",
      " 17  Flag             9420 non-null   object \n",
      "dtypes: float64(4), object(14)\n",
      "memory usage: 1.3+ MB\n"
     ]
    }
   ],
   "source": [
    "df.info()"
   ]
  },
  {
   "cell_type": "code",
   "execution_count": 3,
   "id": "03cbb209",
   "metadata": {},
   "outputs": [
    {
     "data": {
      "text/html": [
       "<div>\n",
       "<style scoped>\n",
       "    .dataframe tbody tr th:only-of-type {\n",
       "        vertical-align: middle;\n",
       "    }\n",
       "\n",
       "    .dataframe tbody tr th {\n",
       "        vertical-align: top;\n",
       "    }\n",
       "\n",
       "    .dataframe thead th {\n",
       "        text-align: right;\n",
       "    }\n",
       "</style>\n",
       "<table border=\"1\" class=\"dataframe\">\n",
       "  <thead>\n",
       "    <tr style=\"text-align: right;\">\n",
       "      <th></th>\n",
       "      <th>Area Code</th>\n",
       "      <th>Element Code</th>\n",
       "      <th>Year Code</th>\n",
       "      <th>Months Code</th>\n",
       "    </tr>\n",
       "  </thead>\n",
       "  <tbody>\n",
       "    <tr>\n",
       "      <th>count</th>\n",
       "      <td>9420.0</td>\n",
       "      <td>9420.000000</td>\n",
       "      <td>9420.000000</td>\n",
       "      <td>9420.0</td>\n",
       "    </tr>\n",
       "    <tr>\n",
       "      <th>mean</th>\n",
       "      <td>149.0</td>\n",
       "      <td>5533.610616</td>\n",
       "      <td>2008.362527</td>\n",
       "      <td>7021.0</td>\n",
       "    </tr>\n",
       "    <tr>\n",
       "      <th>std</th>\n",
       "      <td>0.0</td>\n",
       "      <td>3.809841</td>\n",
       "      <td>9.579540</td>\n",
       "      <td>0.0</td>\n",
       "    </tr>\n",
       "    <tr>\n",
       "      <th>min</th>\n",
       "      <td>149.0</td>\n",
       "      <td>5530.000000</td>\n",
       "      <td>1991.000000</td>\n",
       "      <td>7021.0</td>\n",
       "    </tr>\n",
       "    <tr>\n",
       "      <th>25%</th>\n",
       "      <td>149.0</td>\n",
       "      <td>5531.000000</td>\n",
       "      <td>2000.000000</td>\n",
       "      <td>7021.0</td>\n",
       "    </tr>\n",
       "    <tr>\n",
       "      <th>50%</th>\n",
       "      <td>149.0</td>\n",
       "      <td>5532.000000</td>\n",
       "      <td>2009.000000</td>\n",
       "      <td>7021.0</td>\n",
       "    </tr>\n",
       "    <tr>\n",
       "      <th>75%</th>\n",
       "      <td>149.0</td>\n",
       "      <td>5539.000000</td>\n",
       "      <td>2017.000000</td>\n",
       "      <td>7021.0</td>\n",
       "    </tr>\n",
       "    <tr>\n",
       "      <th>max</th>\n",
       "      <td>149.0</td>\n",
       "      <td>5539.000000</td>\n",
       "      <td>2024.000000</td>\n",
       "      <td>7021.0</td>\n",
       "    </tr>\n",
       "  </tbody>\n",
       "</table>\n",
       "</div>"
      ],
      "text/plain": [
       "       Area Code  Element Code    Year Code  Months Code\n",
       "count     9420.0   9420.000000  9420.000000       9420.0\n",
       "mean       149.0   5533.610616  2008.362527       7021.0\n",
       "std          0.0      3.809841     9.579540          0.0\n",
       "min        149.0   5530.000000  1991.000000       7021.0\n",
       "25%        149.0   5531.000000  2000.000000       7021.0\n",
       "50%        149.0   5532.000000  2009.000000       7021.0\n",
       "75%        149.0   5539.000000  2017.000000       7021.0\n",
       "max        149.0   5539.000000  2024.000000       7021.0"
      ]
     },
     "execution_count": 3,
     "metadata": {},
     "output_type": "execute_result"
    }
   ],
   "source": [
    "df.describe()"
   ]
  },
  {
   "cell_type": "code",
   "execution_count": 4,
   "id": "eaa65129",
   "metadata": {},
   "outputs": [
    {
     "data": {
      "text/plain": [
       "array(['#indicator+name', 'Almonds, in shell', 'Apples', 'Apricots',\n",
       "       'Areca nuts', 'Bananas', 'Barley', 'Beans, dry', 'Buckwheat',\n",
       "       'Cabbages', 'Cauliflowers and broccoli', 'Chick peas, dry',\n",
       "       'Chillies and peppers, dry (Capsicum spp., Pimenta spp.), raw',\n",
       "       'Chillies and peppers, green (Capsicum spp. and Pimenta spp.)',\n",
       "       'Coconuts, in shell', 'Coffee, green', 'Cotton lint, ginned',\n",
       "       'Cotton seed',\n",
       "       'Edible roots and tubers with high starch or inulin content, n.e.c., fresh',\n",
       "       'Eggs from other birds in shell, fresh, n.e.c.'], dtype=object)"
      ]
     },
     "execution_count": 4,
     "metadata": {},
     "output_type": "execute_result"
    }
   ],
   "source": [
    "df['Item'].unique()[:20]  # See available crops"
   ]
  },
  {
   "cell_type": "markdown",
   "id": "757c3ef6",
   "metadata": {},
   "source": [
    "Cleaning the Data"
   ]
  },
  {
   "cell_type": "code",
   "execution_count": 5,
   "id": "439b6eb6",
   "metadata": {},
   "outputs": [],
   "source": [
    "# Drop the metadata header row\n",
    "df = df[df['Iso3'] != '#country+code']"
   ]
  },
  {
   "cell_type": "code",
   "execution_count": 6,
   "id": "ddf35127",
   "metadata": {},
   "outputs": [],
   "source": [
    "# Convert numeric columns to appropriate types\n",
    "df['Year'] = df['Year'].astype(int)\n",
    "df['Value'] = pd.to_numeric(df['Value'], errors='coerce')"
   ]
  },
  {
   "cell_type": "code",
   "execution_count": 7,
   "id": "ea237a02",
   "metadata": {},
   "outputs": [],
   "source": [
    "# Keep only relevant columns\n",
    "df = df[['Area', 'Item', 'Element', 'Year', 'Unit', 'Value']]"
   ]
  },
  {
   "cell_type": "code",
   "execution_count": 8,
   "id": "76ac17ff",
   "metadata": {},
   "outputs": [],
   "source": [
    "# Drop missing values\n",
    "df = df.dropna(subset=['Value'])\n",
    "\n",
    "# Sort\n",
    "df = df.sort_values(['Item', 'Year']).reset_index(drop=True)"
   ]
  },
  {
   "cell_type": "code",
   "execution_count": 9,
   "id": "1e5f4930",
   "metadata": {},
   "outputs": [
    {
     "data": {
      "text/html": [
       "<div>\n",
       "<style scoped>\n",
       "    .dataframe tbody tr th:only-of-type {\n",
       "        vertical-align: middle;\n",
       "    }\n",
       "\n",
       "    .dataframe tbody tr th {\n",
       "        vertical-align: top;\n",
       "    }\n",
       "\n",
       "    .dataframe thead th {\n",
       "        text-align: right;\n",
       "    }\n",
       "</style>\n",
       "<table border=\"1\" class=\"dataframe\">\n",
       "  <thead>\n",
       "    <tr style=\"text-align: right;\">\n",
       "      <th></th>\n",
       "      <th>Area</th>\n",
       "      <th>Item</th>\n",
       "      <th>Element</th>\n",
       "      <th>Year</th>\n",
       "      <th>Unit</th>\n",
       "      <th>Value</th>\n",
       "    </tr>\n",
       "  </thead>\n",
       "  <tbody>\n",
       "    <tr>\n",
       "      <th>0</th>\n",
       "      <td>Nepal</td>\n",
       "      <td>Agriculture</td>\n",
       "      <td>Producer Price Index (2014-2016 = 100)</td>\n",
       "      <td>1991</td>\n",
       "      <td>NaN</td>\n",
       "      <td>20.63</td>\n",
       "    </tr>\n",
       "    <tr>\n",
       "      <th>1</th>\n",
       "      <td>Nepal</td>\n",
       "      <td>Agriculture</td>\n",
       "      <td>Producer Price Index (2014-2016 = 100)</td>\n",
       "      <td>1992</td>\n",
       "      <td>NaN</td>\n",
       "      <td>20.87</td>\n",
       "    </tr>\n",
       "    <tr>\n",
       "      <th>2</th>\n",
       "      <td>Nepal</td>\n",
       "      <td>Agriculture</td>\n",
       "      <td>Producer Price Index (2014-2016 = 100)</td>\n",
       "      <td>1993</td>\n",
       "      <td>NaN</td>\n",
       "      <td>23.37</td>\n",
       "    </tr>\n",
       "    <tr>\n",
       "      <th>3</th>\n",
       "      <td>Nepal</td>\n",
       "      <td>Agriculture</td>\n",
       "      <td>Producer Price Index (2014-2016 = 100)</td>\n",
       "      <td>1994</td>\n",
       "      <td>NaN</td>\n",
       "      <td>25.13</td>\n",
       "    </tr>\n",
       "    <tr>\n",
       "      <th>4</th>\n",
       "      <td>Nepal</td>\n",
       "      <td>Agriculture</td>\n",
       "      <td>Producer Price Index (2014-2016 = 100)</td>\n",
       "      <td>1995</td>\n",
       "      <td>NaN</td>\n",
       "      <td>25.98</td>\n",
       "    </tr>\n",
       "  </tbody>\n",
       "</table>\n",
       "</div>"
      ],
      "text/plain": [
       "    Area         Item                                 Element  Year Unit  \\\n",
       "0  Nepal  Agriculture  Producer Price Index (2014-2016 = 100)  1991  NaN   \n",
       "1  Nepal  Agriculture  Producer Price Index (2014-2016 = 100)  1992  NaN   \n",
       "2  Nepal  Agriculture  Producer Price Index (2014-2016 = 100)  1993  NaN   \n",
       "3  Nepal  Agriculture  Producer Price Index (2014-2016 = 100)  1994  NaN   \n",
       "4  Nepal  Agriculture  Producer Price Index (2014-2016 = 100)  1995  NaN   \n",
       "\n",
       "   Value  \n",
       "0  20.63  \n",
       "1  20.87  \n",
       "2  23.37  \n",
       "3  25.13  \n",
       "4  25.98  "
      ]
     },
     "execution_count": 9,
     "metadata": {},
     "output_type": "execute_result"
    }
   ],
   "source": [
    "df.head()"
   ]
  },
  {
   "cell_type": "markdown",
   "id": "08e3e449",
   "metadata": {},
   "source": [
    "# (EDA) Quick data understanding"
   ]
  },
  {
   "cell_type": "markdown",
   "id": "bb5a01f4",
   "metadata": {},
   "source": []
  },
  {
   "cell_type": "code",
   "execution_count": 10,
   "id": "0e14805b",
   "metadata": {},
   "outputs": [
    {
     "data": {
      "text/html": [
       "<div>\n",
       "<style scoped>\n",
       "    .dataframe tbody tr th:only-of-type {\n",
       "        vertical-align: middle;\n",
       "    }\n",
       "\n",
       "    .dataframe tbody tr th {\n",
       "        vertical-align: top;\n",
       "    }\n",
       "\n",
       "    .dataframe thead th {\n",
       "        text-align: right;\n",
       "    }\n",
       "</style>\n",
       "<table border=\"1\" class=\"dataframe\">\n",
       "  <thead>\n",
       "    <tr style=\"text-align: right;\">\n",
       "      <th></th>\n",
       "      <th>Year</th>\n",
       "      <th>Value</th>\n",
       "    </tr>\n",
       "  </thead>\n",
       "  <tbody>\n",
       "    <tr>\n",
       "      <th>count</th>\n",
       "      <td>9420.000000</td>\n",
       "      <td>9420.000000</td>\n",
       "    </tr>\n",
       "    <tr>\n",
       "      <th>mean</th>\n",
       "      <td>2008.362527</td>\n",
       "      <td>36845.209384</td>\n",
       "    </tr>\n",
       "    <tr>\n",
       "      <th>std</th>\n",
       "      <td>9.579540</td>\n",
       "      <td>83950.436332</td>\n",
       "    </tr>\n",
       "    <tr>\n",
       "      <th>min</th>\n",
       "      <td>1991.000000</td>\n",
       "      <td>4.430000</td>\n",
       "    </tr>\n",
       "    <tr>\n",
       "      <th>25%</th>\n",
       "      <td>2000.000000</td>\n",
       "      <td>101.842500</td>\n",
       "    </tr>\n",
       "    <tr>\n",
       "      <th>50%</th>\n",
       "      <td>2009.000000</td>\n",
       "      <td>1160.050000</td>\n",
       "    </tr>\n",
       "    <tr>\n",
       "      <th>75%</th>\n",
       "      <td>2017.000000</td>\n",
       "      <td>34724.200000</td>\n",
       "    </tr>\n",
       "    <tr>\n",
       "      <th>max</th>\n",
       "      <td>2024.000000</td>\n",
       "      <td>873591.800000</td>\n",
       "    </tr>\n",
       "  </tbody>\n",
       "</table>\n",
       "</div>"
      ],
      "text/plain": [
       "              Year          Value\n",
       "count  9420.000000    9420.000000\n",
       "mean   2008.362527   36845.209384\n",
       "std       9.579540   83950.436332\n",
       "min    1991.000000       4.430000\n",
       "25%    2000.000000     101.842500\n",
       "50%    2009.000000    1160.050000\n",
       "75%    2017.000000   34724.200000\n",
       "max    2024.000000  873591.800000"
      ]
     },
     "execution_count": 10,
     "metadata": {},
     "output_type": "execute_result"
    }
   ],
   "source": [
    "df.describe()"
   ]
  },
  {
   "cell_type": "code",
   "execution_count": 11,
   "id": "ac6cf275",
   "metadata": {},
   "outputs": [
    {
     "data": {
      "text/plain": [
       "(96,\n",
       " Item\n",
       " Almonds, in shell                                               134\n",
       " Apples                                                          134\n",
       " Apricots                                                        134\n",
       " Areca nuts                                                      134\n",
       " Barley                                                          134\n",
       " Bananas                                                         134\n",
       " Chick peas, dry                                                 134\n",
       " Chillies and peppers, green (Capsicum spp. and Pimenta spp.)    134\n",
       " Jute, raw or retted                                             134\n",
       " Hen eggs in shell, fresh                                        134\n",
       " Name: count, dtype: int64)"
      ]
     },
     "execution_count": 11,
     "metadata": {},
     "output_type": "execute_result"
    }
   ],
   "source": [
    "df['Item'].nunique(), df['Item'].value_counts().head(10)\n"
   ]
  },
  {
   "cell_type": "markdown",
   "id": "8826cf21",
   "metadata": {},
   "source": [
    "Duplicates or missing values"
   ]
  },
  {
   "cell_type": "code",
   "execution_count": 12,
   "id": "dd75a360",
   "metadata": {},
   "outputs": [
    {
     "data": {
      "text/plain": [
       "np.int64(0)"
      ]
     },
     "execution_count": 12,
     "metadata": {},
     "output_type": "execute_result"
    }
   ],
   "source": [
    "df.isna().sum()\n",
    "df.duplicated().sum()\n"
   ]
  },
  {
   "cell_type": "markdown",
   "id": "d53e0f1f",
   "metadata": {},
   "source": [
    "Average Prcie by year to give an idea of overall inflation/trend in agriculture"
   ]
  },
  {
   "cell_type": "code",
   "execution_count": 14,
   "id": "7f75f5f2",
   "metadata": {},
   "outputs": [
    {
     "data": {
      "text/plain": [
       "<Axes: title={'center': 'Average Crop Prices Over Time'}, xlabel='Year'>"
      ]
     },
     "execution_count": 14,
     "metadata": {},
     "output_type": "execute_result"
    },
    {
     "data": {
      "image/png": "[encoded data removed]",
      "text/plain": [
       "<Figure size 800x400 with 1 Axes>"
      ]
     },
     "metadata": {},
     "output_type": "display_data"
    }
   ],
   "source": [
    "avg_by_year = df.groupby('Year')['Value'].mean().reset_index()\n",
    "avg_by_year.plot(x='Year', y='Value', kind='line', title='Average Crop Prices Over Time', figsize=(8,4))\n"
   ]
  },
  {
   "cell_type": "code",
   "execution_count": null,
   "id": "7efb6bdf",
   "metadata": {},
   "outputs": [],
   "source": []
  }
 ],
 "metadata": {
  "kernelspec": {
   "display_name": ".venv (3.13.3)",
   "language": "python",
   "name": "python3"
  },
  "language_info": {
   "codemirror_mode": {
    "name": "ipython",
    "version": 3
   },
   "file_extension": ".py",
   "mimetype": "text/x-python",
   "name": "python",
   "nbconvert_exporter": "python",
   "pygments_lexer": "ipython3",
   "version": "3.13.3"
  }
 },
 "nbformat": 4,
 "nbformat_minor": 5
}
